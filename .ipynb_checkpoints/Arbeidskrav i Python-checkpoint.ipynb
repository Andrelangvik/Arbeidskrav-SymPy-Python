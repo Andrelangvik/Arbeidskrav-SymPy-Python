{
 "cells": [
  {
   "cell_type": "markdown",
   "id": "f061996c-4f3d-4067-9312-0cb1cdfd29ea",
   "metadata": {},
   "source": [
    "# Arbeidskrav 5"
   ]
  },
  {
   "cell_type": "code",
   "execution_count": 1,
   "id": "7f84645b-e536-4767-b6f6-fab78055ecda",
   "metadata": {},
   "outputs": [],
   "source": [
    "import sympy as sp"
   ]
  },
  {
   "cell_type": "code",
   "execution_count": 61,
   "id": "3f9a6c65-5e3b-46e4-bfec-6a132567e002",
   "metadata": {},
   "outputs": [],
   "source": [
    "from sympy import symbols, Eq, solve, exp, sqrt, ln"
   ]
  },
  {
   "cell_type": "markdown",
   "id": "15ef3279-57a7-4675-a065-b38f8faf2250",
   "metadata": {},
   "source": [
    "# Oppgavesett 15"
   ]
  },
  {
   "cell_type": "markdown",
   "id": "cdd99314-2925-4131-9906-ba1d8cd3121b",
   "metadata": {},
   "source": [
    "#### 1 A)"
   ]
  },
  {
   "cell_type": "code",
   "execution_count": 3,
   "id": "625b9a96-e635-4575-a6af-7ab1062a1150",
   "metadata": {},
   "outputs": [
    {
     "data": {
      "text/plain": [
       "{x: -1, y: 2}"
      ]
     },
     "execution_count": 3,
     "metadata": {},
     "output_type": "execute_result"
    }
   ],
   "source": [
    "x, y = symbols(\"x y\")\n",
    "eq1 = Eq(2*x + 4*y, 6)\n",
    "eq2 = Eq(-2*x + y, 4)\n",
    "solve((eq1, eq2), (x, y))"
   ]
  },
  {
   "cell_type": "markdown",
   "id": "d7a013c6-a091-4054-ad35-2c25c2dc746e",
   "metadata": {},
   "source": [
    "#### 1 B)"
   ]
  },
  {
   "cell_type": "code",
   "execution_count": 4,
   "id": "38860d4a-7db7-4f88-802e-94a8e804ed45",
   "metadata": {},
   "outputs": [
    {
     "data": {
      "text/plain": [
       "[(-1, -1), (2, 5)]"
      ]
     },
     "execution_count": 4,
     "metadata": {},
     "output_type": "execute_result"
    }
   ],
   "source": [
    "x, y = symbols(\"x y\")\n",
    "eq1 = Eq( 2*x - y, -1)\n",
    "eq2 = Eq( x**2 + x - y, 1)\n",
    "solve((eq1, eq2), (x, y))"
   ]
  },
  {
   "cell_type": "markdown",
   "id": "52e51705-0459-4302-b86e-90bb6299a094",
   "metadata": {},
   "source": [
    "#### 2 A)"
   ]
  },
  {
   "cell_type": "code",
   "execution_count": 5,
   "id": "b7c88999-a74b-43d6-a299-283d094011ff",
   "metadata": {},
   "outputs": [
    {
     "data": {
      "text/plain": [
       "{x: 4, y: 0}"
      ]
     },
     "execution_count": 5,
     "metadata": {},
     "output_type": "execute_result"
    }
   ],
   "source": [
    "x, y = symbols(\"x y\")\n",
    "eq1 = Eq(3*x - 12, -6*y)\n",
    "eq2 = Eq(4*x - 8*y, 16)\n",
    "solve((eq1, eq2), (x, y))"
   ]
  },
  {
   "cell_type": "markdown",
   "id": "aa707870-1b0b-47d1-8578-86ff377e4fda",
   "metadata": {},
   "source": [
    "#### 1 B)"
   ]
  },
  {
   "cell_type": "code",
   "execution_count": 6,
   "id": "c41419cf-7c1f-42a3-bff4-af26fdfca523",
   "metadata": {},
   "outputs": [
    {
     "data": {
      "text/plain": [
       "[(-15/2, 31/4), (2, 3)]"
      ]
     },
     "execution_count": 6,
     "metadata": {},
     "output_type": "execute_result"
    }
   ],
   "source": [
    "x, y = symbols(\"x y\")\n",
    "eq1 = Eq(x**2 + 4*x - 3, 3*y)\n",
    "eq2 = Eq(2*y, 8 - x)\n",
    "solve((eq1, eq2), (x, y))"
   ]
  },
  {
   "cell_type": "markdown",
   "id": "d853698a-b330-49ae-83d7-b1c35935472d",
   "metadata": {},
   "source": [
    "# Oppgavesett 16:"
   ]
  },
  {
   "cell_type": "markdown",
   "id": "79a61c0a-f9ab-4027-bb44-6149924ded6f",
   "metadata": {},
   "source": [
    "#### 1 A)"
   ]
  },
  {
   "cell_type": "code",
   "execution_count": 7,
   "id": "5a13f1e4-777f-425c-b51d-14032db66316",
   "metadata": {},
   "outputs": [
    {
     "data": {
      "text/plain": [
       "{x: 2, y: 2}"
      ]
     },
     "execution_count": 7,
     "metadata": {},
     "output_type": "execute_result"
    }
   ],
   "source": [
    "x, y = symbols(\"x y\")\n",
    "eq1 = Eq(4*2 + 2*y, 12)\n",
    "eq2 = Eq(6*x - 2*y, 8)\n",
    "solve((eq1, eq2), (x, y))"
   ]
  },
  {
   "cell_type": "markdown",
   "id": "43d96ba4-548f-4f05-a097-66df6dee8c73",
   "metadata": {},
   "source": [
    "#### 1 B)"
   ]
  },
  {
   "cell_type": "code",
   "execution_count": 8,
   "id": "f014ff54-45af-4d41-b751-6779ad29336e",
   "metadata": {},
   "outputs": [
    {
     "data": {
      "text/plain": [
       "[(0, -5), (12, 1)]"
      ]
     },
     "execution_count": 8,
     "metadata": {},
     "output_type": "execute_result"
    }
   ],
   "source": [
    "x, y = symbols(\"x y\")\n",
    "eq1 = Eq(2*x + y**2, 25)\n",
    "eq2 = Eq(x - 2*y, 10)\n",
    "solve((eq1, eq2), (x, y))"
   ]
  },
  {
   "cell_type": "markdown",
   "id": "59e57c1a-241d-4bda-b795-81a4300711b7",
   "metadata": {},
   "source": [
    "#### 2 A)"
   ]
  },
  {
   "cell_type": "code",
   "execution_count": 9,
   "id": "2ed2974a-e6e6-4b0b-89e6-f26610d425f7",
   "metadata": {},
   "outputs": [
    {
     "data": {
      "text/plain": [
       "{x: 4, y: 2}"
      ]
     },
     "execution_count": 9,
     "metadata": {},
     "output_type": "execute_result"
    }
   ],
   "source": [
    "x, y = symbols(\"x y\")\n",
    "eq1 = Eq(4*x - 4*y, 8)\n",
    "eq2 = Eq(9*x - 5*y, 26)\n",
    "solve((eq1, eq2), (x, y))"
   ]
  },
  {
   "cell_type": "markdown",
   "id": "fc070268-385f-4d89-8dce-ce2ce343d95c",
   "metadata": {},
   "source": [
    "#### 2 B)"
   ]
  },
  {
   "cell_type": "code",
   "execution_count": 10,
   "id": "d1d127da-203e-4516-b126-6ac3d47fbd9f",
   "metadata": {},
   "outputs": [
    {
     "data": {
      "text/plain": [
       "[(-9, -2*sqrt(3)), (-9, 2*sqrt(3)), (7, -2), (7, 2)]"
      ]
     },
     "execution_count": 10,
     "metadata": {},
     "output_type": "execute_result"
    }
   ],
   "source": [
    "x, y = symbols(\"x y\")\n",
    "eq1 = Eq(x + 2*y**2, 15)\n",
    "eq2 = Eq(x**2 - 4*y**2, 33)\n",
    "solve((eq1, eq2), (x, y))"
   ]
  },
  {
   "cell_type": "markdown",
   "id": "a68eecfa-3276-4db3-9dcc-069dc0a2d7c2",
   "metadata": {},
   "source": [
    "# Oppgavesett 17"
   ]
  },
  {
   "cell_type": "markdown",
   "id": "b4b7cffd-bf80-4ec8-8090-e8553b58a2cc",
   "metadata": {},
   "source": [
    "#### 1 A)"
   ]
  },
  {
   "cell_type": "code",
   "execution_count": 12,
   "id": "d0e2d122-89f8-41ef-b337-bfa44078fd23",
   "metadata": {},
   "outputs": [
    {
     "data": {
      "text/plain": [
       "[(0, -4), (0, 4), (15, -1), (15, 1)]"
      ]
     },
     "execution_count": 12,
     "metadata": {},
     "output_type": "execute_result"
    }
   ],
   "source": [
    "x, y = symbols(\"x y\")\n",
    "eq1 = Eq(x*y**2 - x, 0)\n",
    "eq2 = Eq(x + y**2, 16)\n",
    "solve((eq1, eq2), (x, y))"
   ]
  },
  {
   "cell_type": "markdown",
   "id": "73524188-a0de-4414-8588-eca539bb40e9",
   "metadata": {},
   "source": [
    "#### 1 B)"
   ]
  },
  {
   "cell_type": "code",
   "execution_count": 13,
   "id": "a9163710-13fd-4191-a494-051fd2b91d76",
   "metadata": {},
   "outputs": [
    {
     "data": {
      "text/plain": [
       "[(-10, 0), (-6, -8), (-6, 8), (6, -8), (6, 8), (10, 0)]"
      ]
     },
     "execution_count": 13,
     "metadata": {},
     "output_type": "execute_result"
    }
   ],
   "source": [
    "x, y = symbols(\"x y\")\n",
    "eq1 = Eq(x**2 + y**2, 100)\n",
    "eq2 = Eq(x**2*y - 36*y, 0)\n",
    "solve((eq1, eq2), (x, y))"
   ]
  },
  {
   "cell_type": "markdown",
   "id": "4b843a60-7b06-4aea-b7fd-5ebaa22da571",
   "metadata": {},
   "source": [
    "### 2 A)"
   ]
  },
  {
   "cell_type": "code",
   "execution_count": 14,
   "id": "3d18d4b2-7673-4133-915a-fb74e23e93f6",
   "metadata": {},
   "outputs": [
    {
     "data": {
      "text/plain": [
       "[(-3, -7), (-3, 7), (0, -sqrt(58)), (0, sqrt(58)), (3, -7), (3, 7)]"
      ]
     },
     "execution_count": 14,
     "metadata": {},
     "output_type": "execute_result"
    }
   ],
   "source": [
    "x, y = symbols(\"x y\")\n",
    "eq1 = Eq(x*y**2 - 49*x, 0)\n",
    "eq2 = Eq(x**2 + y**2, 58)\n",
    "solve((eq1, eq2), (x, y))"
   ]
  },
  {
   "cell_type": "markdown",
   "id": "f9b8aea2-3615-4b35-b936-f63b10e4e6ef",
   "metadata": {},
   "source": [
    "#### 2 B)"
   ]
  },
  {
   "cell_type": "code",
   "execution_count": 15,
   "id": "5ac240a9-1b11-4eca-a8f3-aa4f690748e5",
   "metadata": {},
   "outputs": [
    {
     "data": {
      "text/plain": [
       "[(-1.11803398874989, 0.0),\n",
       " (-0.500000000000000, -1.00000000000000),\n",
       " (-0.500000000000000, 1.00000000000000),\n",
       " (1.11803398874989, 0.0)]"
      ]
     },
     "execution_count": 15,
     "metadata": {},
     "output_type": "execute_result"
    }
   ],
   "source": [
    "x, y = symbols(\"x y\")\n",
    "eq1 = Eq(x**2 + y**2, 5/4)\n",
    "eq2 = Eq(2*x*y + y, 0)\n",
    "solve((eq1, eq2), (x, y))"
   ]
  },
  {
   "cell_type": "markdown",
   "id": "32108ca2-797c-40f0-a21b-0b39a4efa177",
   "metadata": {},
   "source": [
    "# Oppgavesett 19"
   ]
  },
  {
   "cell_type": "markdown",
   "id": "24a05574-0f2b-4804-b433-c4cebbd850d6",
   "metadata": {},
   "source": [
    "#### 1 A)"
   ]
  },
  {
   "cell_type": "code",
   "execution_count": 17,
   "id": "d2217076-dae9-4dfe-af8d-ab547c177f18",
   "metadata": {},
   "outputs": [
    {
     "data": {
      "text/latex": [
       "$\\displaystyle 5 x^{4}$"
      ],
      "text/plain": [
       "5*x**4"
      ]
     },
     "execution_count": 17,
     "metadata": {},
     "output_type": "execute_result"
    }
   ],
   "source": [
    "sp.diff(x**5)"
   ]
  },
  {
   "cell_type": "markdown",
   "id": "bd03c0c1-d8fa-4033-8e51-f095b75eefd3",
   "metadata": {},
   "source": [
    "#### 1 B)"
   ]
  },
  {
   "cell_type": "code",
   "execution_count": 18,
   "id": "93a6a610-8e9f-4963-868f-6cc819e2a464",
   "metadata": {},
   "outputs": [
    {
     "data": {
      "text/latex": [
       "$\\displaystyle 1$"
      ],
      "text/plain": [
       "1"
      ]
     },
     "execution_count": 18,
     "metadata": {},
     "output_type": "execute_result"
    }
   ],
   "source": [
    "sp.diff(x + 12)"
   ]
  },
  {
   "cell_type": "markdown",
   "id": "72eaf844-8f87-43a1-aa43-46c5ec40e691",
   "metadata": {},
   "source": [
    "#### 1 C)"
   ]
  },
  {
   "cell_type": "code",
   "execution_count": 19,
   "id": "1e6c62aa-8dd7-4f6a-b2c2-61200a5f0c41",
   "metadata": {},
   "outputs": [
    {
     "data": {
      "text/latex": [
       "$\\displaystyle 3 x^{2} + 8 x$"
      ],
      "text/plain": [
       "3*x**2 + 8*x"
      ]
     },
     "execution_count": 19,
     "metadata": {},
     "output_type": "execute_result"
    }
   ],
   "source": [
    "sp.diff(x**3 + 4*x**2)"
   ]
  },
  {
   "cell_type": "markdown",
   "id": "24fbb743-c016-47ef-bab6-0f073fb08950",
   "metadata": {},
   "source": [
    "#### 1 D)"
   ]
  },
  {
   "cell_type": "code",
   "execution_count": 23,
   "id": "3964ee94-aeb6-44c1-8ef4-e5d062e50d3c",
   "metadata": {},
   "outputs": [
    {
     "data": {
      "text/latex": [
       "$\\displaystyle 6 x^{2}$"
      ],
      "text/plain": [
       "6*x**2"
      ]
     },
     "execution_count": 23,
     "metadata": {},
     "output_type": "execute_result"
    }
   ],
   "source": [
    "sp.diff(2*x**3 + sqrt(36))"
   ]
  },
  {
   "cell_type": "markdown",
   "id": "e5d83d78-bdc1-4b8f-bdc5-ca656880acff",
   "metadata": {},
   "source": [
    "#### 1 E)"
   ]
  },
  {
   "cell_type": "code",
   "execution_count": 24,
   "id": "bd60b7d9-3e66-48c8-a279-37fdcdc852c2",
   "metadata": {},
   "outputs": [
    {
     "data": {
      "text/latex": [
       "$\\displaystyle \\frac{1}{2 \\sqrt{x}}$"
      ],
      "text/plain": [
       "1/(2*sqrt(x))"
      ]
     },
     "execution_count": 24,
     "metadata": {},
     "output_type": "execute_result"
    }
   ],
   "source": [
    "sp.diff(sqrt(x) + 5**2)"
   ]
  },
  {
   "cell_type": "markdown",
   "id": "b546b68f-6744-471f-809b-1e4445de848c",
   "metadata": {},
   "source": [
    "#### 1 F)"
   ]
  },
  {
   "cell_type": "code",
   "execution_count": 25,
   "id": "33613ffa-4bf5-4e81-b542-699628b8e998",
   "metadata": {},
   "outputs": [
    {
     "data": {
      "text/latex": [
       "$\\displaystyle 3 x^{2} - \\frac{1}{x^{2}}$"
      ],
      "text/plain": [
       "3*x**2 - 1/x**2"
      ]
     },
     "execution_count": 25,
     "metadata": {},
     "output_type": "execute_result"
    }
   ],
   "source": [
    "sp.diff(x**3 + 1/x)"
   ]
  },
  {
   "cell_type": "markdown",
   "id": "15c25f86-61d3-42e9-9f10-c0d4a5c29503",
   "metadata": {},
   "source": [
    "#### 1 G)"
   ]
  },
  {
   "cell_type": "code",
   "execution_count": 26,
   "id": "f9b659a2-23e7-4afa-a9ea-8a496459605a",
   "metadata": {},
   "outputs": [
    {
     "data": {
      "text/latex": [
       "$\\displaystyle 3 x^{2} - 2 x + 0.25$"
      ],
      "text/plain": [
       "3*x**2 - 2*x + 0.25"
      ]
     },
     "execution_count": 26,
     "metadata": {},
     "output_type": "execute_result"
    }
   ],
   "source": [
    "sp.diff(x**3 - x**2 + 1/4*x)"
   ]
  },
  {
   "cell_type": "markdown",
   "id": "6ea684aa-a674-4d50-83df-6761d6f14110",
   "metadata": {},
   "source": [
    "#### 2 A)"
   ]
  },
  {
   "cell_type": "code",
   "execution_count": 27,
   "id": "10c77a27-0817-4eac-8ef2-e21e981e5535",
   "metadata": {},
   "outputs": [
    {
     "data": {
      "text/latex": [
       "$\\displaystyle 36 x^{5} - \\frac{1}{x^{2}}$"
      ],
      "text/plain": [
       "36*x**5 - 1/x**2"
      ]
     },
     "execution_count": 27,
     "metadata": {},
     "output_type": "execute_result"
    }
   ],
   "source": [
    "sp.diff(1/x + 6*x**6)"
   ]
  },
  {
   "cell_type": "markdown",
   "id": "1e2fad77-40a4-4f12-8f4f-82330d51be12",
   "metadata": {},
   "source": [
    "#### 2 B)"
   ]
  },
  {
   "cell_type": "code",
   "execution_count": 28,
   "id": "aaa929ed-ac73-426d-bd4f-05d67429efa4",
   "metadata": {},
   "outputs": [
    {
     "data": {
      "text/latex": [
       "$\\displaystyle 1.5 x^{2} - 1$"
      ],
      "text/plain": [
       "1.5*x**2 - 1"
      ]
     },
     "execution_count": 28,
     "metadata": {},
     "output_type": "execute_result"
    }
   ],
   "source": [
    "sp.diff(-x + 1/2*x**3)"
   ]
  },
  {
   "cell_type": "markdown",
   "id": "f72362cc-4554-4c07-bf25-211ded2798d6",
   "metadata": {},
   "source": [
    "#### 2 C)"
   ]
  },
  {
   "cell_type": "code",
   "execution_count": 29,
   "id": "0c136fd5-2532-4b3e-9d69-a3a03e9b8cc5",
   "metadata": {},
   "outputs": [
    {
     "data": {
      "text/latex": [
       "$\\displaystyle x^{2} + x \\left(2 x + 2\\right) + 2 x - 3$"
      ],
      "text/plain": [
       "x**2 + x*(2*x + 2) + 2*x - 3"
      ]
     },
     "execution_count": 29,
     "metadata": {},
     "output_type": "execute_result"
    }
   ],
   "source": [
    "sp.diff(x*(x**2 + 2*x - 3))"
   ]
  },
  {
   "cell_type": "markdown",
   "id": "75a1fd65-c869-4556-bdb6-cca02d171eca",
   "metadata": {},
   "source": [
    "# Oppgavesett 20"
   ]
  },
  {
   "cell_type": "markdown",
   "id": "2c25c927-78a9-4946-9838-1d71af1614b4",
   "metadata": {},
   "source": [
    "#### 1 A)"
   ]
  },
  {
   "cell_type": "code",
   "execution_count": 30,
   "id": "00c26722-2d1d-4681-869e-c5638fc6977a",
   "metadata": {},
   "outputs": [
    {
     "data": {
      "text/latex": [
       "$\\displaystyle \\frac{18 \\sqrt{x^{12}}}{x}$"
      ],
      "text/plain": [
       "18*sqrt(x**12)/x"
      ]
     },
     "execution_count": 30,
     "metadata": {},
     "output_type": "execute_result"
    }
   ],
   "source": [
    "sp.diff(3*sqrt(x**12))"
   ]
  },
  {
   "cell_type": "markdown",
   "id": "de28f0a0-72f9-4a37-b02b-e96cfa0f1ccc",
   "metadata": {},
   "source": [
    "#### 1 B)"
   ]
  },
  {
   "cell_type": "code",
   "execution_count": 31,
   "id": "96e62e98-04ea-4efe-a2fc-4f46a539a720",
   "metadata": {},
   "outputs": [
    {
     "data": {
      "text/latex": [
       "$\\displaystyle \\frac{32 x \\sqrt{\\left(x^{2} + 4\\right)^{4}}}{x^{2} + 4}$"
      ],
      "text/plain": [
       "32*x*sqrt((x**2 + 4)**4)/(x**2 + 4)"
      ]
     },
     "execution_count": 31,
     "metadata": {},
     "output_type": "execute_result"
    }
   ],
   "source": [
    "sp.diff(8 * sqrt((x**2 +4)**4))"
   ]
  },
  {
   "cell_type": "markdown",
   "id": "aee27894-1073-47db-a18d-ca232fee6635",
   "metadata": {},
   "source": [
    "#### 1 C)"
   ]
  },
  {
   "cell_type": "code",
   "execution_count": 32,
   "id": "8a2d7bf1-e5b6-4ead-9b94-4dc256100e40",
   "metadata": {},
   "outputs": [
    {
     "data": {
      "text/latex": [
       "$\\displaystyle 3$"
      ],
      "text/plain": [
       "3"
      ]
     },
     "execution_count": 32,
     "metadata": {},
     "output_type": "execute_result"
    }
   ],
   "source": [
    "sp.diff(sqrt(x) * 3*sqrt(x))"
   ]
  },
  {
   "cell_type": "markdown",
   "id": "2fa48261-2a6d-4332-9670-20e645385d7b",
   "metadata": {},
   "source": [
    "#### 1 D)"
   ]
  },
  {
   "cell_type": "code",
   "execution_count": 33,
   "id": "295e867e-ea8e-439b-8dc8-0d9eef538afd",
   "metadata": {},
   "outputs": [
    {
     "data": {
      "text/latex": [
       "$\\displaystyle \\frac{1}{\\sqrt{\\frac{x}{2} + 1}}$"
      ],
      "text/plain": [
       "1/sqrt(x/2 + 1)"
      ]
     },
     "execution_count": 33,
     "metadata": {},
     "output_type": "execute_result"
    }
   ],
   "source": [
    "sp.diff(4 * sqrt((x + 2)**1/2))"
   ]
  },
  {
   "cell_type": "markdown",
   "id": "b3084323-9a30-4f7e-a259-52a1a6348538",
   "metadata": {},
   "source": [
    "#### 1 E)"
   ]
  },
  {
   "cell_type": "code",
   "execution_count": 34,
   "id": "0cbfe58d-8cb7-47f7-bb8c-7228aac79c5c",
   "metadata": {},
   "outputs": [
    {
     "data": {
      "text/latex": [
       "$\\displaystyle 5 x^{4} + 4 x^{3}$"
      ],
      "text/plain": [
       "5*x**4 + 4*x**3"
      ]
     },
     "execution_count": 34,
     "metadata": {},
     "output_type": "execute_result"
    }
   ],
   "source": [
    "sp.diff(x**4 + x**5)"
   ]
  },
  {
   "cell_type": "markdown",
   "id": "025a731e-2a19-41ed-9dbe-e0fa9af6d8ab",
   "metadata": {},
   "source": [
    "#### 1 F)"
   ]
  },
  {
   "cell_type": "code",
   "execution_count": 36,
   "id": "d5318432-2f1d-4d2e-a377-dec00bcb1c1c",
   "metadata": {},
   "outputs": [
    {
     "data": {
      "text/latex": [
       "$\\displaystyle \\frac{3 \\sqrt{x}}{2}$"
      ],
      "text/plain": [
       "3*sqrt(x)/2"
      ]
     },
     "execution_count": 36,
     "metadata": {},
     "output_type": "execute_result"
    }
   ],
   "source": [
    "sp.diff(x * sqrt(x))"
   ]
  },
  {
   "cell_type": "markdown",
   "id": "eda4d0a9-5061-4740-9525-cf429271ae65",
   "metadata": {},
   "source": [
    "#### 1 H)"
   ]
  },
  {
   "cell_type": "code",
   "execution_count": 37,
   "id": "ccb06677-671c-4e5c-b720-04d9301cea42",
   "metadata": {},
   "outputs": [
    {
     "data": {
      "text/latex": [
       "$\\displaystyle 2 x + \\frac{6}{x^{4}}$"
      ],
      "text/plain": [
       "2*x + 6/x**4"
      ]
     },
     "execution_count": 37,
     "metadata": {},
     "output_type": "execute_result"
    }
   ],
   "source": [
    "sp.diff(x**2 - 2 / x**3)"
   ]
  },
  {
   "cell_type": "markdown",
   "id": "b6fe09dc-f40b-4790-847b-3504974040c4",
   "metadata": {},
   "source": [
    "#### 1 I)"
   ]
  },
  {
   "cell_type": "code",
   "execution_count": 38,
   "id": "be2ac49b-16b8-47c4-84ac-9240ef7d1278",
   "metadata": {},
   "outputs": [
    {
     "data": {
      "text/latex": [
       "$\\displaystyle 9 x^{2} \\left(x^{2} + 1\\right)^{2} \\left(x^{3} + 1\\right)^{2} + 4 x \\left(x^{2} + 1\\right) \\left(x^{3} + 1\\right)^{3}$"
      ],
      "text/plain": [
       "9*x**2*(x**2 + 1)**2*(x**3 + 1)**2 + 4*x*(x**2 + 1)*(x**3 + 1)**3"
      ]
     },
     "execution_count": 38,
     "metadata": {},
     "output_type": "execute_result"
    }
   ],
   "source": [
    "sp.diff((x**2 + 1)**2 * (x**3 +1)**3)"
   ]
  },
  {
   "cell_type": "markdown",
   "id": "0473ee3f-9f3f-4636-85f7-fc856f3083ea",
   "metadata": {},
   "source": [
    "#### 1 J)"
   ]
  },
  {
   "cell_type": "code",
   "execution_count": 39,
   "id": "1cecee78-5402-4916-a5ff-871654967223",
   "metadata": {},
   "outputs": [
    {
     "data": {
      "text/latex": [
       "$\\displaystyle 3 x^{2} + 1$"
      ],
      "text/plain": [
       "3*x**2 + 1"
      ]
     },
     "execution_count": 39,
     "metadata": {},
     "output_type": "execute_result"
    }
   ],
   "source": [
    "sp.diff(x * (x**2 +1))"
   ]
  },
  {
   "cell_type": "markdown",
   "id": "d19dd106-3f5f-4e73-a98b-06b5cabbe0cc",
   "metadata": {},
   "source": [
    "#### 1 K)"
   ]
  },
  {
   "cell_type": "code",
   "execution_count": 40,
   "id": "8b1d8659-100f-48c7-891b-e2d71d95d85c",
   "metadata": {},
   "outputs": [
    {
     "data": {
      "text/latex": [
       "$\\displaystyle 2 x - \\frac{12}{x^{4}}$"
      ],
      "text/plain": [
       "2*x - 12/x**4"
      ]
     },
     "execution_count": 40,
     "metadata": {},
     "output_type": "execute_result"
    }
   ],
   "source": [
    "sp.diff(x**2 + 4 / x**3 - 1)"
   ]
  },
  {
   "cell_type": "markdown",
   "id": "3022a3fb-0c41-4ace-bddc-bd9ec2be110a",
   "metadata": {},
   "source": [
    "#### 1 L)"
   ]
  },
  {
   "cell_type": "code",
   "execution_count": 41,
   "id": "b4e5fb5d-3a5c-4da8-aff5-b03e8ffba570",
   "metadata": {},
   "outputs": [
    {
     "data": {
      "text/latex": [
       "$\\displaystyle 2$"
      ],
      "text/plain": [
       "2"
      ]
     },
     "execution_count": 41,
     "metadata": {},
     "output_type": "execute_result"
    }
   ],
   "source": [
    "sp.diff(x**2/ x**2 + 2*x)"
   ]
  },
  {
   "cell_type": "markdown",
   "id": "2fb61555-b392-461e-8028-c037e4ed4191",
   "metadata": {},
   "source": [
    "#### 1 M)"
   ]
  },
  {
   "cell_type": "code",
   "execution_count": 42,
   "id": "9fa2fa90-05ee-4838-8cd3-f6ad037c682e",
   "metadata": {},
   "outputs": [
    {
     "data": {
      "text/latex": [
       "$\\displaystyle 2 x + 4 - \\frac{2}{x^{2}}$"
      ],
      "text/plain": [
       "2*x + 4 - 2/x**2"
      ]
     },
     "execution_count": 42,
     "metadata": {},
     "output_type": "execute_result"
    }
   ],
   "source": [
    "sp.diff(x**2 + 4*x + 2 / x - 2)"
   ]
  },
  {
   "cell_type": "markdown",
   "id": "45ec6873-c359-4ea4-8e71-a453078c5218",
   "metadata": {},
   "source": [
    "#### 2 A)"
   ]
  },
  {
   "cell_type": "code",
   "execution_count": 43,
   "id": "615b1124-8f88-45f7-95d6-e30a6b48cd00",
   "metadata": {},
   "outputs": [
    {
     "data": {
      "text/latex": [
       "$\\displaystyle 3 x^{2} + \\frac{2}{x^{2}}$"
      ],
      "text/plain": [
       "3*x**2 + 2/x**2"
      ]
     },
     "execution_count": 43,
     "metadata": {},
     "output_type": "execute_result"
    }
   ],
   "source": [
    "sp.diff(x**3 - 2*x / x**2 -1)"
   ]
  },
  {
   "cell_type": "markdown",
   "id": "032acbd4-b1e3-4de7-9a66-290e2558bcef",
   "metadata": {},
   "source": [
    "#### 2 B)"
   ]
  },
  {
   "cell_type": "code",
   "execution_count": 44,
   "id": "1dd35567-8c1b-4d2f-a0a0-3244451d2493",
   "metadata": {},
   "outputs": [
    {
     "data": {
      "text/latex": [
       "$\\displaystyle 3 + \\frac{12}{x^{4}}$"
      ],
      "text/plain": [
       "3 + 12/x**4"
      ]
     },
     "execution_count": 44,
     "metadata": {},
     "output_type": "execute_result"
    }
   ],
   "source": [
    "sp.diff(3*x - 4 / x**3 + 7)"
   ]
  },
  {
   "cell_type": "markdown",
   "id": "a789650d-399e-4b4f-bb63-42749463c131",
   "metadata": {},
   "source": [
    "# Oppgavesett 21"
   ]
  },
  {
   "cell_type": "markdown",
   "id": "e4ba1f26-9b3c-4ae4-88e2-b9568308b197",
   "metadata": {},
   "source": [
    "#### 1 A)"
   ]
  },
  {
   "cell_type": "code",
   "execution_count": 45,
   "id": "d910b54d-e256-4c71-8de9-179bab9deeb8",
   "metadata": {},
   "outputs": [
    {
     "data": {
      "text/latex": [
       "$\\displaystyle \\left(15 x^{2} + 30\\right) \\left(x^{3} + 6 x\\right)^{4}$"
      ],
      "text/plain": [
       "(15*x**2 + 30)*(x**3 + 6*x)**4"
      ]
     },
     "execution_count": 45,
     "metadata": {},
     "output_type": "execute_result"
    }
   ],
   "source": [
    "sp.diff((x**3 + 6* x)**5)"
   ]
  },
  {
   "cell_type": "markdown",
   "id": "b79313ce-4957-4f35-a418-37f7d186ed79",
   "metadata": {},
   "source": [
    "#### 1 B)"
   ]
  },
  {
   "cell_type": "code",
   "execution_count": 46,
   "id": "c733471f-41af-46c9-83ac-b14c9ab5c5db",
   "metadata": {},
   "outputs": [
    {
     "data": {
      "text/latex": [
       "$\\displaystyle \\frac{2 x}{\\sqrt{2 x^{2} + 5}}$"
      ],
      "text/plain": [
       "2*x/sqrt(2*x**2 + 5)"
      ]
     },
     "execution_count": 46,
     "metadata": {},
     "output_type": "execute_result"
    }
   ],
   "source": [
    "sp.diff(sqrt(2*x**2 + 5))"
   ]
  },
  {
   "cell_type": "markdown",
   "id": "1d620148-8bdb-48de-bbc4-36e7cc6e9a17",
   "metadata": {},
   "source": [
    "#### 1 C)"
   ]
  },
  {
   "cell_type": "code",
   "execution_count": 47,
   "id": "a360efdb-13d8-4b21-b0dc-a4e7a50b3f6c",
   "metadata": {},
   "outputs": [
    {
     "data": {
      "text/latex": [
       "$\\displaystyle - \\frac{8 \\left(3 + \\frac{2}{x}\\right)^{3}}{x^{2}}$"
      ],
      "text/plain": [
       "-8*(3 + 2/x)**3/x**2"
      ]
     },
     "execution_count": 47,
     "metadata": {},
     "output_type": "execute_result"
    }
   ],
   "source": [
    "sp.diff((2*x/x**2+3)**4)"
   ]
  },
  {
   "cell_type": "markdown",
   "id": "04066839-45db-43a5-acad-10463edc4e5d",
   "metadata": {},
   "source": [
    "#### 1 D)"
   ]
  },
  {
   "cell_type": "code",
   "execution_count": 48,
   "id": "b43533b1-8545-4e99-9337-df76f77cf1e4",
   "metadata": {},
   "outputs": [
    {
     "data": {
      "text/latex": [
       "$\\displaystyle 12 x^{3} \\left(2 x^{4} + 9\\right)^{2}$"
      ],
      "text/plain": [
       "12*x**3*(2*x**4 + 9)**2"
      ]
     },
     "execution_count": 48,
     "metadata": {},
     "output_type": "execute_result"
    }
   ],
   "source": [
    "sp.diff((2*x**4 + 9)**3/2)"
   ]
  },
  {
   "cell_type": "markdown",
   "id": "c7307140-479b-4afe-b78d-04982f6fe552",
   "metadata": {},
   "source": [
    "#### 1 E)"
   ]
  },
  {
   "cell_type": "code",
   "execution_count": 49,
   "id": "40c2c010-b536-4e60-87ba-be8cf5474d01",
   "metadata": {},
   "outputs": [
    {
     "data": {
      "text/latex": [
       "$\\displaystyle - \\frac{x}{\\left(x^{2} + 1\\right)^{\\frac{3}{2}}}$"
      ],
      "text/plain": [
       "-x/(x**2 + 1)**(3/2)"
      ]
     },
     "execution_count": 49,
     "metadata": {},
     "output_type": "execute_result"
    }
   ],
   "source": [
    "sp.diff(1/sqrt(1+x**2))"
   ]
  },
  {
   "cell_type": "markdown",
   "id": "d5267d19-60cf-451d-9a24-a8ccbc7f31f4",
   "metadata": {},
   "source": [
    "#### 1 F)"
   ]
  },
  {
   "cell_type": "code",
   "execution_count": 50,
   "id": "bd2a3860-cf3c-490f-a247-90f4698488dd",
   "metadata": {},
   "outputs": [
    {
     "data": {
      "text/latex": [
       "$\\displaystyle x^{2} \\left(6 x + 6\\right) \\left(x^{2} + 2 x\\right)^{2} + 2 x \\left(x^{2} + 2 x\\right)^{3}$"
      ],
      "text/plain": [
       "x**2*(6*x + 6)*(x**2 + 2*x)**2 + 2*x*(x**2 + 2*x)**3"
      ]
     },
     "execution_count": 50,
     "metadata": {},
     "output_type": "execute_result"
    }
   ],
   "source": [
    "sp.diff(x**2 * (x**2 + 2*x)**3)"
   ]
  },
  {
   "cell_type": "markdown",
   "id": "e6d7b1f6-cfae-48a4-acb2-fb474bbf4251",
   "metadata": {},
   "source": [
    "#### 1 G)"
   ]
  },
  {
   "cell_type": "code",
   "execution_count": 51,
   "id": "5f1557fc-c8bb-40f6-9e6e-99fb5e5e52b2",
   "metadata": {},
   "outputs": [
    {
     "data": {
      "text/latex": [
       "$\\displaystyle \\frac{x^{2} \\left(x - 1\\right)}{\\sqrt{x^{2} - 2 x}} + 2 x \\sqrt{x^{2} - 2 x}$"
      ],
      "text/plain": [
       "x**2*(x - 1)/sqrt(x**2 - 2*x) + 2*x*sqrt(x**2 - 2*x)"
      ]
     },
     "execution_count": 51,
     "metadata": {},
     "output_type": "execute_result"
    }
   ],
   "source": [
    "sp.diff(x**2 * sqrt(x**2 - 2*x))"
   ]
  },
  {
   "cell_type": "markdown",
   "id": "2765a094-216b-4546-a9e9-32624cedc6c8",
   "metadata": {},
   "source": [
    "#### 1 H)"
   ]
  },
  {
   "cell_type": "code",
   "execution_count": 52,
   "id": "af67a1f7-9d36-446d-b4e0-6b0f290cc748",
   "metadata": {},
   "outputs": [
    {
     "data": {
      "text/latex": [
       "$\\displaystyle \\frac{x^{2} \\left(- 6 x - 3\\right)}{\\left(x^{2} + x\\right)^{4}} + \\frac{2 x}{\\left(x^{2} + x\\right)^{3}}$"
      ],
      "text/plain": [
       "x**2*(-6*x - 3)/(x**2 + x)**4 + 2*x/(x**2 + x)**3"
      ]
     },
     "execution_count": 52,
     "metadata": {},
     "output_type": "execute_result"
    }
   ],
   "source": [
    "sp.diff(x**2 / (x**2 + x)**3)"
   ]
  },
  {
   "cell_type": "markdown",
   "id": "191ccc89-aac2-440b-8153-adf0b6ec217e",
   "metadata": {},
   "source": [
    "#### 1 I ) "
   ]
  },
  {
   "cell_type": "code",
   "execution_count": 53,
   "id": "fad16f93-9461-4550-8b1b-1bd5dd0e370c",
   "metadata": {},
   "outputs": [
    {
     "data": {
      "text/latex": [
       "$\\displaystyle 9 x^{2} \\left(x^{2} + 1\\right)^{2} \\left(x^{3} + 1\\right)^{2} + 4 x \\left(x^{2} + 1\\right) \\left(x^{3} + 1\\right)^{3}$"
      ],
      "text/plain": [
       "9*x**2*(x**2 + 1)**2*(x**3 + 1)**2 + 4*x*(x**2 + 1)*(x**3 + 1)**3"
      ]
     },
     "execution_count": 53,
     "metadata": {},
     "output_type": "execute_result"
    }
   ],
   "source": [
    "sp.diff((x**2 + 1)**2 * (x**3 + 1)**3)"
   ]
  },
  {
   "cell_type": "markdown",
   "id": "c8101c6e-5d6d-479e-8c44-a95dfa0b8996",
   "metadata": {},
   "source": [
    "#### 2 A)"
   ]
  },
  {
   "cell_type": "code",
   "execution_count": 54,
   "id": "3e36c3d1-eb20-4660-8b73-ba697a8ebd70",
   "metadata": {},
   "outputs": [
    {
     "data": {
      "text/latex": [
       "$\\displaystyle \\frac{\\left(24 x + 8\\right) \\sqrt{\\left(3 x^{2} + 2 x\\right)^{4}}}{2 \\left(3 x^{2} + 2 x\\right)}$"
      ],
      "text/plain": [
       "(24*x + 8)*sqrt((3*x**2 + 2*x)**4)/(2*(3*x**2 + 2*x))"
      ]
     },
     "execution_count": 54,
     "metadata": {},
     "output_type": "execute_result"
    }
   ],
   "source": [
    "sp.diff(sqrt((3*x**2 + 2*x)**4))"
   ]
  },
  {
   "cell_type": "markdown",
   "id": "24779e61-3efd-44a1-8887-edc65b2e6874",
   "metadata": {},
   "source": [
    "#### 2 B)"
   ]
  },
  {
   "cell_type": "code",
   "execution_count": 55,
   "id": "827f7eec-e077-4a0f-8a2c-d0a40bfe3177",
   "metadata": {},
   "outputs": [
    {
     "data": {
      "text/latex": [
       "$\\displaystyle 15 x^{2} \\left(x^{2} + 3\\right)^{4} \\left(x^{3} + 3\\right)^{4} + 8 x \\left(x^{2} + 3\\right)^{3} \\left(x^{3} + 3\\right)^{5}$"
      ],
      "text/plain": [
       "15*x**2*(x**2 + 3)**4*(x**3 + 3)**4 + 8*x*(x**2 + 3)**3*(x**3 + 3)**5"
      ]
     },
     "execution_count": 55,
     "metadata": {},
     "output_type": "execute_result"
    }
   ],
   "source": [
    "sp.diff((x**3 + 3)**5 * (x**2 + 3)**4)"
   ]
  },
  {
   "cell_type": "markdown",
   "id": "66f15783-819b-4515-ac0f-ea15c7d91466",
   "metadata": {},
   "source": [
    "#### 2 C)"
   ]
  },
  {
   "cell_type": "code",
   "execution_count": 56,
   "id": "7e371c66-a363-4775-a260-6465e054d1fc",
   "metadata": {},
   "outputs": [
    {
     "data": {
      "text/latex": [
       "$\\displaystyle \\frac{\\sqrt{2} \\sqrt{x^{2}}}{x}$"
      ],
      "text/plain": [
       "sqrt(2)*sqrt(x**2)/x"
      ]
     },
     "execution_count": 56,
     "metadata": {},
     "output_type": "execute_result"
    }
   ],
   "source": [
    "sp.diff(sqrt(x**2 + 1 * x**2))"
   ]
  },
  {
   "cell_type": "markdown",
   "id": "59caf225-e00d-4b40-b5e2-f3aea399b881",
   "metadata": {},
   "source": [
    "#### 2 D)"
   ]
  },
  {
   "cell_type": "code",
   "execution_count": 57,
   "id": "fb8d9e87-cff6-4095-aaa2-72a6836615a7",
   "metadata": {},
   "outputs": [
    {
     "data": {
      "text/latex": [
       "$\\displaystyle \\frac{\\left(18 x + 6\\right) \\left(3 x^{2} + 2 x\\right)^{2}}{x^{2}} - \\frac{2 \\left(3 x^{2} + 2 x\\right)^{3}}{x^{3}}$"
      ],
      "text/plain": [
       "(18*x + 6)*(3*x**2 + 2*x)**2/x**2 - 2*(3*x**2 + 2*x)**3/x**3"
      ]
     },
     "execution_count": 57,
     "metadata": {},
     "output_type": "execute_result"
    }
   ],
   "source": [
    "sp.diff((2*x+3*x**2)**3 / x**2)"
   ]
  },
  {
   "cell_type": "markdown",
   "id": "37434296-6dd6-4eb7-9204-ef0f2f36e62a",
   "metadata": {},
   "source": [
    "#### 2 E)"
   ]
  },
  {
   "cell_type": "code",
   "execution_count": 58,
   "id": "ee3cadd3-9029-407e-a247-9b8588f5fbe1",
   "metadata": {},
   "outputs": [
    {
     "data": {
      "text/latex": [
       "$\\displaystyle \\frac{6 x^{3}}{\\sqrt{x^{4} - 5}}$"
      ],
      "text/plain": [
       "6*x**3/sqrt(x**4 - 5)"
      ]
     },
     "execution_count": 58,
     "metadata": {},
     "output_type": "execute_result"
    }
   ],
   "source": [
    "sp.diff(3 * sqrt(x**4-5))"
   ]
  },
  {
   "cell_type": "markdown",
   "id": "9320cbd1-0e25-46cd-aafc-1491b9bb5151",
   "metadata": {},
   "source": [
    "#### 2 F)"
   ]
  },
  {
   "cell_type": "code",
   "execution_count": 59,
   "id": "ac1326a5-ba42-48a9-9df1-ab78b61a2392",
   "metadata": {},
   "outputs": [
    {
     "data": {
      "text/latex": [
       "$\\displaystyle - \\frac{2 x^{6}}{\\left(x^{4} - 1\\right)^{\\frac{3}{2}}} + \\frac{3 x^{2}}{\\sqrt{x^{4} - 1}}$"
      ],
      "text/plain": [
       "-2*x**6/(x**4 - 1)**(3/2) + 3*x**2/sqrt(x**4 - 1)"
      ]
     },
     "execution_count": 59,
     "metadata": {},
     "output_type": "execute_result"
    }
   ],
   "source": [
    "sp.diff(x**3/ sqrt(x**4 - 1))"
   ]
  },
  {
   "cell_type": "markdown",
   "id": "b9d68afd-43f4-4493-8570-b826fd246c6f",
   "metadata": {},
   "source": [
    "# Oppgavesett 22: "
   ]
  },
  {
   "cell_type": "markdown",
   "id": "8323428d-db63-4b9c-ab54-ddccf6e2ad0c",
   "metadata": {},
   "source": [
    "#### 1 A)"
   ]
  },
  {
   "cell_type": "code",
   "execution_count": 62,
   "id": "d3ebc619-10ab-4a0b-aca5-b713cefdd9a5",
   "metadata": {},
   "outputs": [
    {
     "data": {
      "text/latex": [
       "$\\displaystyle \\frac{1}{x}$"
      ],
      "text/plain": [
       "1/x"
      ]
     },
     "execution_count": 62,
     "metadata": {},
     "output_type": "execute_result"
    }
   ],
   "source": [
    "sp.diff(ln(5*x))"
   ]
  },
  {
   "cell_type": "markdown",
   "id": "1f4f733e-11c7-4fc9-99ff-5a7c6aabc318",
   "metadata": {},
   "source": [
    "#### 1 B)"
   ]
  },
  {
   "cell_type": "code",
   "execution_count": 63,
   "id": "5d547b55-59b0-460e-b44a-5033849d2068",
   "metadata": {},
   "outputs": [
    {
     "data": {
      "text/latex": [
       "$\\displaystyle - 2 e^{- 2 x}$"
      ],
      "text/plain": [
       "-2*exp(-2*x)"
      ]
     },
     "execution_count": 63,
     "metadata": {},
     "output_type": "execute_result"
    }
   ],
   "source": [
    "sp.diff(exp(-2*x))"
   ]
  },
  {
   "cell_type": "markdown",
   "id": "9c3f500d-3f6d-42e5-9626-7ddc4befa880",
   "metadata": {},
   "source": [
    "#### 1 C)"
   ]
  },
  {
   "cell_type": "code",
   "execution_count": 64,
   "id": "1e2e1fb6-5298-4a88-9bd8-f8f76c5b8f7e",
   "metadata": {},
   "outputs": [
    {
     "data": {
      "text/latex": [
       "$\\displaystyle \\frac{1}{x}$"
      ],
      "text/plain": [
       "1/x"
      ]
     },
     "execution_count": 64,
     "metadata": {},
     "output_type": "execute_result"
    }
   ],
   "source": [
    "sp.diff(ln(12*x) - 3)"
   ]
  },
  {
   "cell_type": "markdown",
   "id": "fdf270ae-caa7-474a-b0fd-a08515018efe",
   "metadata": {},
   "source": [
    "#### 1 D)"
   ]
  },
  {
   "cell_type": "code",
   "execution_count": 65,
   "id": "e6a94fae-b58d-4414-b1bc-40c4307dc418",
   "metadata": {},
   "outputs": [
    {
     "data": {
      "text/latex": [
       "$\\displaystyle 2^{x} \\log{\\left(2 \\right)}$"
      ],
      "text/plain": [
       "2**x*log(2)"
      ]
     },
     "execution_count": 65,
     "metadata": {},
     "output_type": "execute_result"
    }
   ],
   "source": [
    "sp.diff(2**x)"
   ]
  },
  {
   "cell_type": "markdown",
   "id": "da36e9ce-34f3-4731-87b4-30c3b0a6f5dd",
   "metadata": {},
   "source": [
    "#### 1 E)"
   ]
  },
  {
   "cell_type": "code",
   "execution_count": 66,
   "id": "8d31d83d-a778-45eb-b9bf-ad1a58b59629",
   "metadata": {},
   "outputs": [
    {
     "data": {
      "text/latex": [
       "$\\displaystyle 3 e^{3 x + 5}$"
      ],
      "text/plain": [
       "3*exp(3*x + 5)"
      ]
     },
     "execution_count": 66,
     "metadata": {},
     "output_type": "execute_result"
    }
   ],
   "source": [
    "sp.diff(exp(3*x+5))"
   ]
  },
  {
   "cell_type": "markdown",
   "id": "b6272737-52e9-441a-9d77-719e8ef5eb94",
   "metadata": {},
   "source": [
    "#### 1 F)"
   ]
  },
  {
   "cell_type": "code",
   "execution_count": 67,
   "id": "2f0307ac-7e45-4383-838c-6ee378f86c3e",
   "metadata": {},
   "outputs": [
    {
     "data": {
      "text/latex": [
       "$\\displaystyle \\frac{5 x^{4}}{x^{5} + 1}$"
      ],
      "text/plain": [
       "5*x**4/(x**5 + 1)"
      ]
     },
     "execution_count": 67,
     "metadata": {},
     "output_type": "execute_result"
    }
   ],
   "source": [
    "sp.diff(ln(x**5 + 1))"
   ]
  },
  {
   "cell_type": "markdown",
   "id": "1d59f008-71c0-4e18-a126-2f35957821cf",
   "metadata": {},
   "source": [
    "#### 1 G)"
   ]
  },
  {
   "cell_type": "code",
   "execution_count": 68,
   "id": "bed2d374-d06d-47ac-8c46-300ef44068d9",
   "metadata": {},
   "outputs": [
    {
     "data": {
      "text/latex": [
       "$\\displaystyle \\left(8 x + 8\\right) e^{4 x^{2} + 8 x}$"
      ],
      "text/plain": [
       "(8*x + 8)*exp(4*x**2 + 8*x)"
      ]
     },
     "execution_count": 68,
     "metadata": {},
     "output_type": "execute_result"
    }
   ],
   "source": [
    "sp.diff(exp(4*x**2 + 8*x))"
   ]
  },
  {
   "cell_type": "markdown",
   "id": "bda2fbd7-80be-47d5-88f2-35f4af2fb795",
   "metadata": {},
   "source": [
    "#### 1 H)"
   ]
  },
  {
   "cell_type": "code",
   "execution_count": 69,
   "id": "31c2ff41-4b15-488f-9d8e-425a9f706fcd",
   "metadata": {},
   "outputs": [
    {
     "data": {
      "text/latex": [
       "$\\displaystyle - \\frac{1}{x}$"
      ],
      "text/plain": [
       "-1/x"
      ]
     },
     "execution_count": 69,
     "metadata": {},
     "output_type": "execute_result"
    }
   ],
   "source": [
    "sp.diff(ln(1/x))"
   ]
  },
  {
   "cell_type": "markdown",
   "id": "680a58bd-4ccb-4959-8697-088addbd16ff",
   "metadata": {},
   "source": [
    "#### I )"
   ]
  },
  {
   "cell_type": "code",
   "execution_count": 70,
   "id": "1cd892fc-5c38-4d06-b178-1a6b83853c04",
   "metadata": {},
   "outputs": [
    {
     "data": {
      "text/latex": [
       "$\\displaystyle 12 e^{4 x} + \\frac{6}{x}$"
      ],
      "text/plain": [
       "12*exp(4*x) + 6/x"
      ]
     },
     "execution_count": 70,
     "metadata": {},
     "output_type": "execute_result"
    }
   ],
   "source": [
    "sp.diff(6*ln(x) + 3* exp(4*x))"
   ]
  },
  {
   "cell_type": "markdown",
   "id": "3881ab56-b854-42b8-bdef-d2f5850ab9f1",
   "metadata": {},
   "source": [
    "#### 1 J)"
   ]
  },
  {
   "cell_type": "code",
   "execution_count": 71,
   "id": "71149391-169a-45ce-8b3a-77d3bf188f84",
   "metadata": {},
   "outputs": [
    {
     "data": {
      "text/latex": [
       "$\\displaystyle - x e^{- x} + e^{- x}$"
      ],
      "text/plain": [
       "-x*exp(-x) + exp(-x)"
      ]
     },
     "execution_count": 71,
     "metadata": {},
     "output_type": "execute_result"
    }
   ],
   "source": [
    "sp.diff(x * exp(-x))"
   ]
  },
  {
   "cell_type": "markdown",
   "id": "ed031dd5-b41f-4d89-ac1b-af20a3456083",
   "metadata": {},
   "source": [
    "#### 1 K)"
   ]
  },
  {
   "cell_type": "code",
   "execution_count": 72,
   "id": "7f1f73d4-9ba7-4bf2-81d0-88faa713e8f0",
   "metadata": {},
   "outputs": [
    {
     "data": {
      "text/latex": [
       "$\\displaystyle \\frac{2 x^{3}}{x^{2} + 2} + 2 x \\log{\\left(x^{2} + 2 \\right)}$"
      ],
      "text/plain": [
       "2*x**3/(x**2 + 2) + 2*x*log(x**2 + 2)"
      ]
     },
     "execution_count": 72,
     "metadata": {},
     "output_type": "execute_result"
    }
   ],
   "source": [
    "sp.diff(x**2 * ln(x**2 + 2))"
   ]
  },
  {
   "cell_type": "markdown",
   "id": "4659be84-faea-45ec-83db-8c1ea4c5c011",
   "metadata": {},
   "source": [
    "#### 2 A)"
   ]
  },
  {
   "cell_type": "code",
   "execution_count": 73,
   "id": "4f1123c4-6a69-4ac4-b129-c223d1f91788",
   "metadata": {},
   "outputs": [
    {
     "data": {
      "text/latex": [
       "$\\displaystyle 2 x^{3} e^{2 x} + 3 x^{2} e^{2 x}$"
      ],
      "text/plain": [
       "2*x**3*exp(2*x) + 3*x**2*exp(2*x)"
      ]
     },
     "execution_count": 73,
     "metadata": {},
     "output_type": "execute_result"
    }
   ],
   "source": [
    "sp.diff(x**3 * exp(2*x))"
   ]
  },
  {
   "cell_type": "markdown",
   "id": "ff4a14c7-0d61-4607-bda6-f5dbc658540a",
   "metadata": {},
   "source": [
    "#### 2 B)"
   ]
  },
  {
   "cell_type": "code",
   "execution_count": 74,
   "id": "edde27ea-596e-47b1-b508-0794ba498d21",
   "metadata": {},
   "outputs": [
    {
     "data": {
      "text/latex": [
       "$\\displaystyle \\frac{\\left(x^{2} + 1\\right) \\left(- \\frac{2 x \\left(x^{2} - 1\\right)}{\\left(x^{2} + 1\\right)^{2}} + \\frac{2 x}{x^{2} + 1}\\right)}{x^{2} - 1}$"
      ],
      "text/plain": [
       "(x**2 + 1)*(-2*x*(x**2 - 1)/(x**2 + 1)**2 + 2*x/(x**2 + 1))/(x**2 - 1)"
      ]
     },
     "execution_count": 74,
     "metadata": {},
     "output_type": "execute_result"
    }
   ],
   "source": [
    "sp.diff(ln((x**2 - 1) / (x**2 + 1)))"
   ]
  },
  {
   "cell_type": "code",
   "execution_count": 75,
   "id": "224d6124-9c59-4326-ba62-a9b3d5d56c4d",
   "metadata": {},
   "outputs": [
    {
     "data": {
      "text/latex": [
       "$\\displaystyle \\frac{2 x^{3}}{x^{2} + 2} + 2 x \\log{\\left(x^{2} + 2 \\right)}$"
      ],
      "text/plain": [
       "2*x**3/(x**2 + 2) + 2*x*log(x**2 + 2)"
      ]
     },
     "execution_count": 75,
     "metadata": {},
     "output_type": "execute_result"
    }
   ],
   "source": [
    "sp.diff(x**2 * ln(x**2 + 2))"
   ]
  },
  {
   "cell_type": "markdown",
   "id": "1fda7bc0-06e5-4452-bedd-8f4a90b14063",
   "metadata": {},
   "source": [
    "#### 2 D)"
   ]
  },
  {
   "cell_type": "code",
   "execution_count": 76,
   "id": "de1f1c4d-0b07-4f3f-8dbc-27f40b80db45",
   "metadata": {},
   "outputs": [
    {
     "data": {
      "text/latex": [
       "$\\displaystyle - \\frac{e^{- x}}{x^{2}} - \\frac{2 e^{- x}}{x^{3}}$"
      ],
      "text/plain": [
       "-exp(-x)/x**2 - 2*exp(-x)/x**3"
      ]
     },
     "execution_count": 76,
     "metadata": {},
     "output_type": "execute_result"
    }
   ],
   "source": [
    "sp.diff(exp(-x) / x**2 +1)"
   ]
  },
  {
   "cell_type": "code",
   "execution_count": null,
   "id": "70e07982-e0b4-4d8f-bd4b-7f5eec893dca",
   "metadata": {},
   "outputs": [],
   "source": []
  },
  {
   "cell_type": "code",
   "execution_count": null,
   "id": "60f2e6c5-7490-46cb-837a-e1eaff49030f",
   "metadata": {},
   "outputs": [],
   "source": []
  },
  {
   "cell_type": "code",
   "execution_count": null,
   "id": "d738f214-3d09-4b2c-9728-3e2f336192bb",
   "metadata": {},
   "outputs": [],
   "source": []
  }
 ],
 "metadata": {
  "kernelspec": {
   "display_name": "Python 3 (ipykernel)",
   "language": "python",
   "name": "python3"
  },
  "language_info": {
   "codemirror_mode": {
    "name": "ipython",
    "version": 3
   },
   "file_extension": ".py",
   "mimetype": "text/x-python",
   "name": "python",
   "nbconvert_exporter": "python",
   "pygments_lexer": "ipython3",
   "version": "3.9.5"
  }
 },
 "nbformat": 4,
 "nbformat_minor": 5
}
